{
 "cells": [
  {
   "cell_type": "code",
   "execution_count": 2,
   "metadata": {
    "editable": true
   },
   "outputs": [
    {
     "name": "stdout",
     "output_type": "stream",
     "text": [
      "Bike-Sharing-Dataset/\n",
      "Bike-Sharing-Dataset/hour.csv\n",
      "Bike-Sharing-Dataset/day.csv\n",
      "Bike-Sharing-Dataset/Readme.txt\n",
      "Untitled.ipynb\n",
      "Your_first_neural_network.ipynb\n",
      "__pycache__/\n",
      "__pycache__/my_answers.cpython-36.pyc\n",
      "allfiles.tar.gz\n",
      "assets/\n",
      "assets/neural_network.png\n",
      "jwt\n",
      "my_answers.py\n",
      "requirements.txt\n",
      "setup.sh\n"
     ]
    }
   ],
   "source": [
    "!tar cvfz allfiles.tar.gz *"
   ]
  },
  {
   "cell_type": "code",
   "execution_count": null,
   "metadata": {
    "editable": true
   },
   "outputs": [],
   "source": []
  }
 ],
 "metadata": {
  "kernelspec": {
   "display_name": "Python 3",
   "language": "python",
   "name": "python3"
  },
  "language_info": {
   "codemirror_mode": {
    "name": "ipython",
    "version": 3
   },
   "file_extension": ".py",
   "mimetype": "text/x-python",
   "name": "python",
   "nbconvert_exporter": "python",
   "pygments_lexer": "ipython3",
   "version": "3.6.3"
  }
 },
 "nbformat": 4,
 "nbformat_minor": 4
}
